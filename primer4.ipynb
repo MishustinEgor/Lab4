{
 "cells": [
  {
   "cell_type": "markdown",
   "id": "57b6e3bd-c9b9-42ee-8992-827cde054d4b",
   "metadata": {},
   "source": [
    "Примеры"
   ]
  },
  {
   "cell_type": "code",
   "execution_count": 85,
   "id": "499fc970-62b4-44dc-a64f-126db93c2728",
   "metadata": {
    "tags": []
   },
   "outputs": [
    {
     "data": {
      "text/plain": [
       "<function pandas.util._tester.test(extra_args: 'list[str] | None' = None, run_doctests: 'bool' = False) -> 'None'>"
      ]
     },
     "execution_count": 85,
     "metadata": {},
     "output_type": "execute_result"
    }
   ],
   "source": [
    "import pandas as pd\n",
    "pd.test"
   ]
  },
  {
   "cell_type": "code",
   "execution_count": 7,
   "id": "73f3a204-6be6-4af6-a2ab-842c6472f551",
   "metadata": {
    "tags": []
   },
   "outputs": [
    {
     "name": "stdout",
     "output_type": "stream",
     "text": [
      "Name: pandas\n",
      "Version: 1.5.3\n",
      "Summary: Powerful data structures for data analysis, time series, and statistics\n",
      "Home-page: https://pandas.pydata.org\n",
      "Author: The Pandas Development Team\n",
      "Author-email: pandas-dev@python.org\n",
      "License: BSD-3-Clause\n",
      "Location: C:\\ProgramData\\anaconda3\\Lib\\site-packages\n",
      "Requires: numpy, numpy, python-dateutil, pytz\n",
      "Required-by: bokeh, datashader, holoviews, hvplot, panel, seaborn, statsmodels, xarray\n",
      "Note: you may need to restart the kernel to use updated packages.\n"
     ]
    },
    {
     "name": "stderr",
     "output_type": "stream",
     "text": [
      "DEPRECATION: Loading egg at c:\\programdata\\anaconda3\\lib\\site-packages\\vboxapi-1.0-py3.11.egg is deprecated. pip 23.3 will enforce this behaviour change. A possible replacement is to use pip for package installation..\n"
     ]
    }
   ],
   "source": [
    "pip show pandas"
   ]
  },
  {
   "cell_type": "code",
   "execution_count": 21,
   "id": "6730632b-79df-4874-b34f-c546566c71cd",
   "metadata": {
    "tags": []
   },
   "outputs": [
    {
     "name": "stderr",
     "output_type": "stream",
     "text": [
      "C:\\Users\\student-09-525\\AppData\\Local\\Temp\\ipykernel_1740\\4251282569.py:4: FutureWarning: The default dtype for empty Series will be 'object' instead of 'float64' in a future version. Specify a dtype explicitly to silence this warning.\n",
      "  pandas.Series(data=None, index=None, dtype=None, name=None,\n"
     ]
    },
    {
     "data": {
      "text/plain": [
       "Series([], dtype: float64)"
      ]
     },
     "execution_count": 21,
     "metadata": {},
     "output_type": "execute_result"
    }
   ],
   "source": [
    "import pandas \n",
    "In [1]: import numpy as np\n",
    "In [2]: import pandas as pd\n",
    "pandas.Series(data=None, index=None, dtype=None, name=None,\n",
    "copy=False, fastpath=False)"
   ]
  },
  {
   "cell_type": "code",
   "execution_count": 36,
   "id": "9bd48364-dd1f-452b-a7e0-da1437d9769e",
   "metadata": {
    "tags": []
   },
   "outputs": [
    {
     "name": "stdout",
     "output_type": "stream",
     "text": [
      "0    1\n",
      "1    2\n",
      "2    3\n",
      "3    4\n",
      "4    5\n",
      "dtype: int64\n"
     ]
    }
   ],
   "source": [
    "In [3]: s1 = pd.Series([1, 2, 3, 4, 5])\n",
    "In [4]: print(s1)\n",
    "0 \n",
    "1 \n",
    "2 \n",
    "3 \n",
    "4 \n",
    "dtype: int64"
   ]
  },
  {
   "cell_type": "code",
   "execution_count": 38,
   "id": "873db039-b380-4381-8340-07183f9fd0e5",
   "metadata": {
    "tags": []
   },
   "outputs": [
    {
     "name": "stdout",
     "output_type": "stream",
     "text": [
      "a    1\n",
      "b    2\n",
      "c    3\n",
      "d    4\n",
      "e    5\n",
      "dtype: int64\n"
     ]
    }
   ],
   "source": [
    "In [5]: s2 = pd.Series([1, 2, 3, 4, 5], ['a', 'b', 'c', 'd', 'e'])\n",
    "In [6]: print(s2)\n",
    "a \n",
    "b \n",
    "c \n",
    "d \n",
    "e \n",
    "dtype: int64"
   ]
  },
  {
   "cell_type": "code",
   "execution_count": 61,
   "id": "68f5b7ad-e1a6-4e8d-8dc8-fef985630482",
   "metadata": {
    "tags": []
   },
   "outputs": [
    {
     "data": {
      "text/plain": [
       "numpy.ndarray"
      ]
     },
     "execution_count": 61,
     "metadata": {},
     "output_type": "execute_result"
    }
   ],
   "source": [
    "import numpy\n",
    "In [3]: ndarr = np.array([1, 2, 3, 4, 5])\n",
    "In [4]: type(ndarr)"
   ]
  },
  {
   "cell_type": "code",
   "execution_count": 42,
   "id": "381641f1-ebe8-4f1b-bf01-15fd57e64a8b",
   "metadata": {
    "tags": []
   },
   "outputs": [
    {
     "name": "stdout",
     "output_type": "stream",
     "text": [
      "a    1\n",
      "b    2\n",
      "c    3\n",
      "d    4\n",
      "e    5\n",
      "dtype: int32\n"
     ]
    }
   ],
   "source": [
    "import numpy as int32 \n",
    "In [5]: s3 = pd.Series(ndarr, ['a', 'b', 'c', 'd', 'e'])\n",
    "In [6]: print(s3)\n",
    "a \n",
    "b \n",
    "c \n",
    "d \n",
    "e \n",
    "dtype: int32"
   ]
  },
  {
   "cell_type": "code",
   "execution_count": 43,
   "id": "ce16399c-e1f3-4463-852d-3d0e04d7167a",
   "metadata": {
    "tags": []
   },
   "outputs": [
    {
     "name": "stdout",
     "output_type": "stream",
     "text": [
      "a    1\n",
      "b    2\n",
      "c    3\n",
      "dtype: int64\n"
     ]
    }
   ],
   "source": [
    "In [7]: d = {'a':1, 'b':2, 'c':3}\n",
    "In [8]: s4 = pd.Series(d)\n",
    "In [9]: print(s4)\n",
    "a \n",
    "b\n",
    "c \n",
    "dtype: int64"
   ]
  },
  {
   "cell_type": "code",
   "execution_count": 44,
   "id": "22663e15-9158-4b37-97e1-7741e101bbad",
   "metadata": {
    "tags": []
   },
   "outputs": [
    {
     "name": "stdout",
     "output_type": "stream",
     "text": [
      "a    7\n",
      "b    7\n",
      "c    7\n",
      "dtype: int64\n"
     ]
    }
   ],
   "source": [
    "In [10]: a = 7\n",
    "In [11]: s5 = pd.Series(a, ['a', 'b', 'c'])\n",
    "In [12]: print(s5)\n",
    "a \n",
    "b \n",
    "c \n",
    "dtype: int64"
   ]
  },
  {
   "cell_type": "code",
   "execution_count": 60,
   "id": "b67230a0-9b33-4329-9d38-d4e63d5245f3",
   "metadata": {
    "tags": []
   },
   "outputs": [
    {
     "data": {
      "text/plain": [
       "3"
      ]
     },
     "execution_count": 60,
     "metadata": {},
     "output_type": "execute_result"
    }
   ],
   "source": [
    "In [13]: s6 = pd.Series([1, 2, 3, 4, 5], ['a', 'b', 'c', 'd', 'e'])\n",
    "In [14]: s6[2]"
   ]
  },
  {
   "cell_type": "code",
   "execution_count": 59,
   "id": "bdd92e63-0ad4-4fe8-8364-508b4cffc16a",
   "metadata": {
    "tags": []
   },
   "outputs": [
    {
     "data": {
      "text/plain": [
       "4"
      ]
     },
     "execution_count": 59,
     "metadata": {},
     "output_type": "execute_result"
    }
   ],
   "source": [
    "In [15]: s6['d']"
   ]
  },
  {
   "cell_type": "code",
   "execution_count": 58,
   "id": "3390544f-f085-4eb5-adaf-787bbdd73377",
   "metadata": {
    "tags": []
   },
   "outputs": [
    {
     "data": {
      "text/plain": [
       "a    1\n",
       "b    2\n",
       "dtype: int64"
      ]
     },
     "execution_count": 58,
     "metadata": {},
     "output_type": "execute_result"
    }
   ],
   "source": [
    "In [16]: s6[:2]"
   ]
  },
  {
   "cell_type": "code",
   "execution_count": 62,
   "id": "953a3011-dc77-417e-9226-019ee1600bd7",
   "metadata": {
    "tags": []
   },
   "outputs": [
    {
     "data": {
      "text/plain": [
       "a    1\n",
       "b    2\n",
       "c    3\n",
       "dtype: int64"
      ]
     },
     "execution_count": 62,
     "metadata": {},
     "output_type": "execute_result"
    }
   ],
   "source": [
    "In [17]: s6[s6 <= 3]"
   ]
  },
  {
   "cell_type": "code",
   "execution_count": 64,
   "id": "75e7ce3c-7d8d-48c9-b11a-410325f3c854",
   "metadata": {
    "tags": []
   },
   "outputs": [
    {
     "data": {
      "text/plain": [
       "a    11\n",
       "b    22\n",
       "c    33\n",
       "d    44\n",
       "e    55\n",
       "dtype: int64"
      ]
     },
     "execution_count": 64,
     "metadata": {},
     "output_type": "execute_result"
    }
   ],
   "source": [
    "In [18]: s7 = pd.Series([10, 20, 30, 40, 50], ['a', 'b', 'c', 'd',\n",
    "'e'])\n",
    "In [19]: s6 + s7"
   ]
  },
  {
   "cell_type": "code",
   "execution_count": 65,
   "id": "4a788f51-c377-4b37-ad0e-a6210156c82f",
   "metadata": {
    "tags": []
   },
   "outputs": [
    {
     "data": {
      "text/plain": [
       "a     3\n",
       "b     6\n",
       "c     9\n",
       "d    12\n",
       "e    15\n",
       "dtype: int64"
      ]
     },
     "execution_count": 65,
     "metadata": {},
     "output_type": "execute_result"
    }
   ],
   "source": [
    "In [20]: s6 * 3"
   ]
  },
  {
   "cell_type": "code",
   "execution_count": 78,
   "id": "61539ae4-2c9a-439e-873e-83f1c6fd19bd",
   "metadata": {
    "tags": []
   },
   "outputs": [
    {
     "name": "stdout",
     "output_type": "stream",
     "text": [
      "10\n",
      "30\n",
      "50\n"
     ]
    }
   ],
   "source": [
    "import pandas as pd\n",
    "# Создадим Series с пользовательскими индексами\n",
    "s = pd.Series([10, 20, 30, 40, 50], index=['a', 'b', 'c', 'd', 'e'])\n",
    "# Доступ к элементам по порядковому номеру\n",
    "print(s.iloc[0]) # Первый элемент (10)\n",
    "print(s.iloc[2]) # Третий элемент (30)\n",
    "print(s.iloc[-1]) # Последний элемент (50)"
   ]
  },
  {
   "cell_type": "code",
   "execution_count": 79,
   "id": "7c35a2f9-cfe9-41d3-bdf0-c3fd80e32549",
   "metadata": {
    "tags": []
   },
   "outputs": [
    {
     "name": "stdout",
     "output_type": "stream",
     "text": [
      "10\n",
      "30\n",
      "50\n"
     ]
    }
   ],
   "source": [
    "# Доступ к элементам по метке индекса\n",
    "print(s.loc['a']) # Первый элемент (10)\n",
    "print(s.loc['c']) # Третий элемент (30)\n",
    "print(s.loc['e']) # Последний элемент (50)"
   ]
  },
  {
   "cell_type": "code",
   "execution_count": 80,
   "id": "9fd7f9c5-a00f-4731-b8d8-73b72dc9bb43",
   "metadata": {
    "tags": []
   },
   "outputs": [
    {
     "name": "stdout",
     "output_type": "stream",
     "text": [
      "b    20\n",
      "c    30\n",
      "dtype: int64\n",
      "b    20\n",
      "c    30\n",
      "d    40\n",
      "dtype: int64\n"
     ]
    },
    {
     "data": {
      "text/plain": [
       "(20, 30, 40)"
      ]
     },
     "execution_count": 80,
     "metadata": {},
     "output_type": "execute_result"
    }
   ],
   "source": [
    "# Срез с использованием iloc (позиционный индекс, невключительныйstop)\n",
    "\n",
    "print(s.iloc[1:3]) # Выведет элементы с индексами 1 и 2 (20, 30)\n",
    "#Срез с использованием loc (меточная индексация, включительный stop)\n",
    "print(s.loc['b':'d']) # Выведет элементы с индексами 'b', 'c' и 'd'\n",
    "(20, 30, 40)"
   ]
  },
  {
   "cell_type": "code",
   "execution_count": 81,
   "id": "7fa931e4-2f05-4b6b-a5ae-ca28a89cfe1f",
   "metadata": {
    "tags": []
   },
   "outputs": [
    {
     "name": "stdout",
     "output_type": "stream",
     "text": [
      "b    25\n",
      "d    30\n",
      "e    15\n",
      "dtype: int64\n"
     ]
    }
   ],
   "source": [
    "import pandas as pd\n",
    "# Создаём Series с числовыми значениями\n",
    "s = pd.Series([10, 25, 8, 30, 15], index=['a', 'b', 'c', 'd', 'e'])\n",
    "# Фильтруем значения больше 10\n",
    "filtered_s = s[s > 10]\n",
    "print(filtered_s)"
   ]
  },
  {
   "cell_type": "code",
   "execution_count": 82,
   "id": "85296da8-49cb-409d-996d-c0d332e9bb7b",
   "metadata": {
    "tags": []
   },
   "outputs": [
    {
     "name": "stdout",
     "output_type": "stream",
     "text": [
      "a    False\n",
      "b     True\n",
      "c    False\n",
      "d     True\n",
      "e     True\n",
      "dtype: bool\n"
     ]
    }
   ],
   "source": [
    "print(s > 10)"
   ]
  },
  {
   "cell_type": "code",
   "execution_count": 83,
   "id": "94ea5bd0-820a-4ba7-8d26-63fae7bcbd6f",
   "metadata": {
    "tags": []
   },
   "outputs": [
    {
     "name": "stdout",
     "output_type": "stream",
     "text": [
      "a    10\n",
      "b    25\n",
      "d    30\n",
      "e    15\n",
      "dtype: int64\n"
     ]
    }
   ],
   "source": [
    "# Фильтрация значений в диапазоне от 10 до 30\n",
    "filtered_s = s[(s >= 10) & (s <= 30)]\n",
    "print(filtered_s)"
   ]
  },
  {
   "cell_type": "code",
   "execution_count": 84,
   "id": "104f1739-f7c2-42af-bf32-12ab30145f22",
   "metadata": {
    "tags": []
   },
   "outputs": [
    {
     "name": "stdout",
     "output_type": "stream",
     "text": [
      "b    25\n",
      "d    30\n",
      "dtype: int64\n"
     ]
    }
   ],
   "source": [
    "# Выбираем только элементы, у которых индекс 'b' или 'd'\n",
    "filtered_s = s[s.index.isin(['b', 'd'])]\n",
    "print(filtered_s)"
   ]
  },
  {
   "cell_type": "code",
   "execution_count": 85,
   "id": "68dd787a-c217-4058-903b-438444b53d66",
   "metadata": {
    "tags": []
   },
   "outputs": [
    {
     "name": "stdout",
     "output_type": "stream",
     "text": [
      "a    10.0\n",
      "c     8.0\n",
      "d    30.0\n",
      "dtype: float64\n"
     ]
    }
   ],
   "source": [
    "s_with_nan = pd.Series([10, None, 8, 30, None], index=['a', 'b', 'c',\n",
    "'d', 'e'])\n",
    "# Фильтрация только непустых значений\n",
    "filtered_s = s_with_nan[s_with_nan.notnull()]\n",
    "print(filtered_s)"
   ]
  },
  {
   "cell_type": "code",
   "execution_count": 2,
   "id": "841419df-20be-4cd6-b140-d1cbf2c75246",
   "metadata": {},
   "outputs": [
    {
     "name": "stdout",
     "output_type": "stream",
     "text": [
      "a    10\n",
      "b    25\n",
      "c    30\n",
      "d    40\n",
      "dtype: int64\n"
     ]
    }
   ],
   "source": [
    "import pandas as pd\n",
    "# Создаём Series\n",
    "s = pd.Series([10, 20, 30, 40], index=['a', 'b', 'c', 'd'])\n",
    "# Изменяем значение элемента с индексом 'b'\n",
    "s.loc['b'] = 25\n",
    "print(s)"
   ]
  },
  {
   "cell_type": "code",
   "execution_count": 4,
   "id": "8cb70830-d206-4e13-94be-5ef2c9e5ea7b",
   "metadata": {},
   "outputs": [
    {
     "name": "stdout",
     "output_type": "stream",
     "text": [
      "a    10\n",
      "b    50\n",
      "c    30\n",
      "d    40\n",
      "dtype: int64\n"
     ]
    }
   ],
   "source": [
    "# Изменяем второй элемент (позиция 1)\n",
    "s.iloc[1] = 50\n",
    "print(s)"
   ]
  },
  {
   "cell_type": "code",
   "execution_count": 6,
   "id": "ec7996a2-440e-4b88-9f0c-c9e64fb65e9c",
   "metadata": {},
   "outputs": [
    {
     "name": "stdout",
     "output_type": "stream",
     "text": [
      "a    10\n",
      "b    60\n",
      "c    30\n",
      "d    50\n",
      "dtype: int64\n"
     ]
    }
   ],
   "source": [
    "# Увеличиваем все значения больше 30 на 10\n",
    "s[s > 30] += 10\n",
    "print(s)"
   ]
  },
  {
   "cell_type": "code",
   "execution_count": 8,
   "id": "80661c90-3f6b-4356-81b0-d470b35af643",
   "metadata": {},
   "outputs": [
    {
     "name": "stdout",
     "output_type": "stream",
     "text": [
      "a    100\n",
      "b     60\n",
      "c    200\n",
      "d     50\n",
      "dtype: int64\n"
     ]
    }
   ],
   "source": [
    "# Изменяем значения элементов с индексами 'a' и 'c'\n",
    "s.loc[['a', 'c']] = [100, 200]\n",
    "print(s)"
   ]
  },
  {
   "cell_type": "code",
   "execution_count": 10,
   "id": "871d653b-1927-4acb-bc9b-7c68c0c36577",
   "metadata": {},
   "outputs": [
    {
     "name": "stdout",
     "output_type": "stream",
     "text": [
      "a    200\n",
      "b    120\n",
      "c    400\n",
      "d    100\n",
      "dtype: int64\n"
     ]
    }
   ],
   "source": [
    "# Умножаем все элементы на 2\n",
    "s = s.apply(lambda x: x * 2)\n",
    "print(s)"
   ]
  },
  {
   "cell_type": "code",
   "execution_count": 12,
   "id": "0b8b1a35-dfcb-4450-aeb6-96deaa60c684",
   "metadata": {},
   "outputs": [
    {
     "name": "stdout",
     "output_type": "stream",
     "text": [
      "a    10.0\n",
      "b     0.0\n",
      "c    30.0\n",
      "d     0.0\n",
      "dtype: float64\n"
     ]
    }
   ],
   "source": [
    "s_with_nan = pd.Series([10, None, 30, None], index=['a', 'b', 'c',\n",
    "'d'])\n",
    "# Заполняем пропущенные значения числом 0\n",
    "s_filled = s_with_nan.fillna(0)\n",
    "print(s_filled)"
   ]
  },
  {
   "cell_type": "code",
   "execution_count": 14,
   "id": "a7c1bc7c-d7a0-46b1-b6c4-2cad23876e62",
   "metadata": {},
   "outputs": [
    {
     "name": "stdout",
     "output_type": "stream",
     "text": [
      "a    10\n",
      "b    20\n",
      "c    30\n",
      "dtype: int64\n"
     ]
    }
   ],
   "source": [
    "import pandas as pd\n",
    "# Создаём Series\n",
    "s = pd.Series([10, 20, 30, 40, 50, 60, 70], index=['a', 'b', 'c', 'd',\n",
    "'e', 'f', 'g'])\n",
    "# Вывод первых 3 элементов\n",
    "print(s.head(3))"
   ]
  },
  {
   "cell_type": "code",
   "execution_count": 16,
   "id": "a61c86a6-64df-4f4f-9f43-0e956a68346f",
   "metadata": {},
   "outputs": [
    {
     "name": "stdout",
     "output_type": "stream",
     "text": [
      "a    10\n",
      "b    20\n",
      "c    30\n",
      "d    40\n",
      "e    50\n",
      "dtype: int64\n"
     ]
    }
   ],
   "source": [
    "print(s.head())"
   ]
  },
  {
   "cell_type": "code",
   "execution_count": 18,
   "id": "41ad1b71-42da-43e5-a520-e2951eb8a88e",
   "metadata": {},
   "outputs": [
    {
     "name": "stdout",
     "output_type": "stream",
     "text": [
      "e    50\n",
      "f    60\n",
      "g    70\n",
      "dtype: int64\n"
     ]
    }
   ],
   "source": [
    "# Вывод последних 3 элементов\n",
    "print(s.tail(3))"
   ]
  },
  {
   "cell_type": "code",
   "execution_count": 20,
   "id": "60e1fdd1-ed87-4f1e-878a-adbe019d85d3",
   "metadata": {},
   "outputs": [
    {
     "name": "stdout",
     "output_type": "stream",
     "text": [
      "Index(['a', 'b', 'c', 'd', 'e'], dtype='object')\n"
     ]
    }
   ],
   "source": [
    "import pandas as pd\n",
    "# Создаём Series с пользовательскими индексами\n",
    "s = pd.Series([10, 20, 30, 40, 50], index=['a', 'b', 'c', 'd', 'e'])\n",
    "# Получение индексов\n",
    "print(s.index)"
   ]
  },
  {
   "cell_type": "code",
   "execution_count": 26,
   "id": "ccb89a10-950b-410d-9866-24984892f54d",
   "metadata": {},
   "outputs": [
    {
     "name": "stdout",
     "output_type": "stream",
     "text": [
      "[10 20 30 40 50]\n"
     ]
    }
   ],
   "source": [
    "# Получение значений\n",
    "print(s.values)"
   ]
  },
  {
   "cell_type": "code",
   "execution_count": 28,
   "id": "91eaf139-1cb2-48ab-ad8d-8a39f2493cb6",
   "metadata": {},
   "outputs": [
    {
     "name": "stdout",
     "output_type": "stream",
     "text": [
      "int64\n"
     ]
    }
   ],
   "source": [
    "import pandas as pd\n",
    "# Создаём Series с целочисленными значениями\n",
    "s = pd.Series([10, 20, 30, 40, 50])\n",
    "# Определяем тип данных\n",
    "print(s.dtype)"
   ]
  },
  {
   "cell_type": "code",
   "execution_count": 32,
   "id": "100473b4-143d-4d6c-b4b4-a3d537342140",
   "metadata": {},
   "outputs": [
    {
     "name": "stdout",
     "output_type": "stream",
     "text": [
      "0    False\n",
      "1     True\n",
      "2    False\n",
      "3     True\n",
      "4    False\n",
      "dtype: bool\n"
     ]
    }
   ],
   "source": [
    "import pandas as pd\n",
    "import numpy as np\n",
    "# Создаём Series с пропущенными значениями\n",
    "s = pd.Series([10, np.nan, 30, None, 50])\n",
    "# Проверяем наличие пропущенных значений\n",
    "print(s.isnull())"
   ]
  },
  {
   "cell_type": "code",
   "execution_count": 34,
   "id": "3b5727ce-a531-41d5-a458-0f37b7a613d4",
   "metadata": {},
   "outputs": [
    {
     "name": "stdout",
     "output_type": "stream",
     "text": [
      "0    10.0\n",
      "2    30.0\n",
      "4    50.0\n",
      "dtype: float64\n"
     ]
    }
   ],
   "source": [
    "filtered_s = s[s.notnull()]\n",
    "print(filtered_s)"
   ]
  },
  {
   "cell_type": "code",
   "execution_count": 38,
   "id": "f0c53902-2a29-4f46-aeed-16d106a43756",
   "metadata": {},
   "outputs": [
    {
     "name": "stdout",
     "output_type": "stream",
     "text": [
      "0    Value: 10.0\n",
      "1     Value: nan\n",
      "2    Value: 30.0\n",
      "3     Value: nan\n",
      "4    Value: 50.0\n",
      "dtype: object\n"
     ]
    }
   ],
   "source": [
    "def custom_function(x):\n",
    "    return f\"Value: {x}\"\n",
    "s_transformed = s.apply(custom_function)\n",
    "print(s_transformed)"
   ]
  },
  {
   "cell_type": "code",
   "execution_count": 40,
   "id": "3ced5951-a84e-4170-8921-4e552135fbaa",
   "metadata": {},
   "outputs": [
    {
     "name": "stdout",
     "output_type": "stream",
     "text": [
      "0    2.302585\n",
      "1         NaN\n",
      "2    3.401197\n",
      "3         NaN\n",
      "4    3.912023\n",
      "dtype: float64\n"
     ]
    }
   ],
   "source": [
    "import numpy as np\n",
    "# Применение функции np.log к каждому элементу\n",
    "s_log = s.apply(np.log)\n",
    "print(s_log)"
   ]
  },
  {
   "cell_type": "code",
   "execution_count": 42,
   "id": "46acd71f-30e1-43a0-aec7-aede58769474",
   "metadata": {},
   "outputs": [
    {
     "name": "stdout",
     "output_type": "stream",
     "text": [
      "30.0\n"
     ]
    }
   ],
   "source": [
    "print(s.mean()) # (10 + 20 + 30 + 40 + 50) / 5 = 30.0"
   ]
  },
  {
   "cell_type": "code",
   "execution_count": 44,
   "id": "28eb3265-c416-4e38-8268-721b9f914dd9",
   "metadata": {},
   "outputs": [
    {
     "name": "stdout",
     "output_type": "stream",
     "text": [
      "count     3.0\n",
      "mean     30.0\n",
      "std      20.0\n",
      "min      10.0\n",
      "25%      20.0\n",
      "50%      30.0\n",
      "75%      40.0\n",
      "max      50.0\n",
      "dtype: float64\n"
     ]
    }
   ],
   "source": [
    "print(s.describe())"
   ]
  },
  {
   "cell_type": "code",
   "execution_count": 46,
   "id": "f2a0cdf3-bd67-4d4f-85bc-933cd3e46379",
   "metadata": {},
   "outputs": [
    {
     "name": "stdout",
     "output_type": "stream",
     "text": [
      "0    0.000000\n",
      "1    0.693147\n",
      "2    1.098612\n",
      "3    1.386294\n",
      "4    1.609438\n",
      "dtype: float64\n"
     ]
    }
   ],
   "source": [
    "import pandas as pd\n",
    "import numpy as np\n",
    "# Создаём Series\n",
    "s = pd.Series([1, 2, 3, 4, 5])\n",
    "# Применяем натуральный логарифм\n",
    "s_log = np.log(s)\n",
    "print(s_log)"
   ]
  },
  {
   "cell_type": "code",
   "execution_count": 48,
   "id": "8df9049c-c8df-43d0-89e9-b7444d03e7a5",
   "metadata": {},
   "outputs": [
    {
     "name": "stdout",
     "output_type": "stream",
     "text": [
      "0      2.718282\n",
      "1      7.389056\n",
      "2     20.085537\n",
      "3     54.598150\n",
      "4    148.413159\n",
      "dtype: float64\n"
     ]
    }
   ],
   "source": [
    "s_exp = np.exp(s)\n",
    "print(s_exp)"
   ]
  },
  {
   "cell_type": "code",
   "execution_count": 50,
   "id": "b5167346-a962-4d7b-b4b7-7fa9239b8a09",
   "metadata": {},
   "outputs": [
    {
     "name": "stdout",
     "output_type": "stream",
     "text": [
      "0    0.841471\n",
      "1    0.909297\n",
      "2    0.141120\n",
      "3   -0.756802\n",
      "4   -0.958924\n",
      "dtype: float64\n",
      "0    0.540302\n",
      "1   -0.416147\n",
      "2   -0.989992\n",
      "3   -0.653644\n",
      "4    0.283662\n",
      "dtype: float64\n",
      "0    1\n",
      "1    2\n",
      "2    3\n",
      "3    4\n",
      "4    5\n",
      "dtype: int64\n"
     ]
    }
   ],
   "source": [
    "print(np.sin(s)) # Синус каждого элемента\n",
    "print(np.cos(s)) # Косинус каждого элемента\n",
    "print(np.abs(s)) # Модуль значений"
   ]
  },
  {
   "cell_type": "code",
   "execution_count": 52,
   "id": "56759b9a-08c6-4cee-bb22-95a7bd0b5214",
   "metadata": {},
   "outputs": [
    {
     "name": "stdout",
     "output_type": "stream",
     "text": [
      "0    1.0\n",
      "1    NaN\n",
      "2    2.0\n",
      "3    3.0\n",
      "dtype: float64\n"
     ]
    }
   ],
   "source": [
    "s_with_nan = pd.Series([1, np.nan, 4, 9])\n",
    "# Применяем квадратный корень\n",
    "print(np.sqrt(s_with_nan))"
   ]
  },
  {
   "cell_type": "code",
   "execution_count": 54,
   "id": "ae6614cc-6b2b-461d-aae4-6debf85c2611",
   "metadata": {},
   "outputs": [
    {
     "name": "stdout",
     "output_type": "stream",
     "text": [
      "0    1\n",
      "1    2\n",
      "2    3\n",
      "3    4\n",
      "4    5\n",
      "dtype: int64\n"
     ]
    }
   ],
   "source": [
    "s_reset = s.reset_index(drop=True)\n",
    "print(s_reset)"
   ]
  },
  {
   "cell_type": "code",
   "execution_count": 56,
   "id": "dea3742d-57cd-434a-acd8-39c65bba1f6b",
   "metadata": {},
   "outputs": [
    {
     "name": "stdout",
     "output_type": "stream",
     "text": [
      "True\n"
     ]
    }
   ],
   "source": [
    "import pandas as pd\n",
    "# Создаём Series с уникальными индексами\n",
    "s_unique = pd.Series([10, 20, 30], index=['a', 'b', 'c'])\n",
    "# Проверяем уникальность индексов\n",
    "print(s_unique.index.is_unique)"
   ]
  },
  {
   "cell_type": "code",
   "execution_count": 58,
   "id": "90c68e17-1e8a-4fe8-8dda-b73599fc2f61",
   "metadata": {},
   "outputs": [
    {
     "name": "stdout",
     "output_type": "stream",
     "text": [
      "2024-03-01    100\n",
      "2024-03-02    105\n",
      "2024-03-03    102\n",
      "2024-03-04     98\n",
      "2024-03-05    110\n",
      "Freq: D, dtype: int64\n"
     ]
    }
   ],
   "source": [
    "import pandas as pd\n",
    "# Создаём список дат\n",
    "dates = pd.date_range(start='2024-03-01', periods=5, freq='D')\n",
    "# Создаём Series с временными метками в качестве индекса\n",
    "s = pd.Series([100, 105, 102, 98, 110], index=dates)\n",
    "print(s)"
   ]
  },
  {
   "cell_type": "code",
   "execution_count": 60,
   "id": "2f2e6e5b-846b-4c8b-8dd6-3cd528284856",
   "metadata": {},
   "outputs": [
    {
     "name": "stdout",
     "output_type": "stream",
     "text": [
      "102\n"
     ]
    }
   ],
   "source": [
    "print(s['2024-03-03'])"
   ]
  },
  {
   "cell_type": "code",
   "execution_count": 62,
   "id": "9346a100-513d-4f56-81a6-5dbb9cb3052c",
   "metadata": {},
   "outputs": [
    {
     "name": "stdout",
     "output_type": "stream",
     "text": [
      "2024-03-02    105\n",
      "2024-03-03    102\n",
      "2024-03-04     98\n",
      "Freq: D, dtype: int64\n"
     ]
    }
   ],
   "source": [
    "print(s['2024-03-02':'2024-03-04'])"
   ]
  },
  {
   "cell_type": "code",
   "execution_count": 64,
   "id": "382305a2-4d03-440e-af1c-67cc0239c4ca",
   "metadata": {},
   "outputs": [
    {
     "name": "stdout",
     "output_type": "stream",
     "text": [
      "2024-03-01    100\n",
      "2024-03-02    200\n",
      "2024-03-03    150\n",
      "dtype: int64\n"
     ]
    }
   ],
   "source": [
    "s = pd.Series([100, 200, 150], index=['2024-03-01', '2024-03-02',\n",
    "'2024-03-03'])\n",
    "s.index = pd.to_datetime(s.index)\n",
    "print(s)"
   ]
  },
  {
   "cell_type": "code",
   "execution_count": 66,
   "id": "dbb9d829-17d1-4c54-82cf-939de6d84872",
   "metadata": {},
   "outputs": [
    {
     "name": "stdout",
     "output_type": "stream",
     "text": [
      "2024-03-01   NaN\n",
      "2024-03-02   NaN\n",
      "2024-03-03   NaN\n",
      "dtype: float64\n"
     ]
    }
   ],
   "source": [
    "s_ma5 = s.rolling(window=5).mean()\n",
    "print(s_ma5)"
   ]
  },
  {
   "cell_type": "code",
   "execution_count": 68,
   "id": "48eabf88-12ab-4321-8986-da3df2565634",
   "metadata": {},
   "outputs": [
    {
     "data": {
      "text/plain": [
       "[<matplotlib.lines.Line2D at 0x1a3b8dbe1b0>]"
      ]
     },
     "execution_count": 68,
     "metadata": {},
     "output_type": "execute_result"
    },
    {
     "data": {
      "image/png": "[encoded data removed]",
      "text/plain": [
       "<Figure size 800x400 with 1 Axes>"
      ]
     },
     "metadata": {},
     "output_type": "display_data"
    }
   ],
   "source": [
    "import matplotlib.pyplot as plt\n",
    "# Построим график\n",
    "plt.figure(figsize=(8, 4))\n",
    "plt.plot(s, label=\"Исходные данные\", marker=\"o\")"
   ]
  },
  {
   "cell_type": "code",
   "execution_count": 70,
   "id": "8bbc178f-6457-4b3a-9dde-3d3ddcb599fb",
   "metadata": {},
   "outputs": [
    {
     "data": {
      "image/png": "[encoded data removed]",
      "text/plain": [
       "<Figure size 1000x500 with 1 Axes>"
      ]
     },
     "metadata": {},
     "output_type": "display_data"
    },
    {
     "data": {
      "image/png": "[encoded data removed]",
      "text/plain": [
       "<Figure size 1000x500 with 1 Axes>"
      ]
     },
     "metadata": {},
     "output_type": "display_data"
    }
   ],
   "source": [
    "import numpy as np\n",
    "import matplotlib.pyplot as plt\n",
    "# Генерируем данные о цене акции\n",
    "dates = pd.date_range(start=\"2024-01-01\", periods=30, freq=\"D\")\n",
    "prices = pd.Series(np.random.randint(90, 110, size=30), index=dates)\n",
    "# Вычисляем процентный прирост\n",
    "returns = prices.pct_change() * 100\n",
    "# Построим график\n",
    "plt.figure(figsize=(10, 5))\n",
    "plt.plot(prices, label=\"Цена акции\", marker=\"o\")\n",
    "plt.ylabel(\"Цена\")\n",
    "plt.xlabel(\"Дата\")\n",
    "plt.title(\"График цены акции\")\n",
    "plt.figure(figsize=(10, 5))\n",
    "plt.bar(returns.index, returns, color=\"red\", alpha=0.7,\n",
    "label=\"Процентное изменение\")\n",
    "plt.axhline(0, color=\"black\", linestyle=\"--\")\n",
    "plt.ylabel(\"Изменение (%)\")\n",
    "plt.xlabel(\"Дата\")\n",
    "plt.title(\"Процентное изменение цены акции\")\n",
    "plt.legend()\n",
    "plt.show()"
   ]
  }
 ],
 "metadata": {
  "kernelspec": {
   "display_name": "Python [conda env:base] *",
   "language": "python",
   "name": "conda-base-py"
  },
  "language_info": {
   "codemirror_mode": {
    "name": "ipython",
    "version": 3
   },
   "file_extension": ".py",
   "mimetype": "text/x-python",
   "name": "python",
   "nbconvert_exporter": "python",
   "pygments_lexer": "ipython3",
   "version": "3.12.7"
  }
 },
 "nbformat": 4,
 "nbformat_minor": 5
}
